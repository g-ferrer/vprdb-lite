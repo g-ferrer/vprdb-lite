{
 "cells": [
  {
   "cell_type": "markdown",
   "source": [
    "**Importing everything you need**"
   ],
   "metadata": {
    "collapsed": false
   }
  },
  {
   "cell_type": "code",
   "execution_count": null,
   "outputs": [],
   "source": [
    "from pathlib import Path\n",
    "\n",
    "from vprdb import dominating_set\n",
    "from vprdb.io import export, read_dataset"
   ],
   "metadata": {
    "collapsed": false
   }
  },
  {
   "cell_type": "markdown",
   "source": [
    "**Reading dataset from hard drive**"
   ],
   "metadata": {
    "collapsed": false
   }
  },
  {
   "cell_type": "code",
   "execution_count": null,
   "outputs": [],
   "source": [
    "path_to_dataset = \"/path/to/your/favourite/dataset\"\n",
    "database = read_dataset(path_to_dataset=Path(path_to_dataset),\n",
    "                        color_dir='color',\n",
    "                        depth_dir='depth',\n",
    "                        trajectory_file_name='CameraTrajectory.txt',\n",
    "                        intrinsics_file_name='intrinsics.txt',\n",
    "                        depth_scale=1000)"
   ],
   "metadata": {
    "collapsed": false
   }
  },
  {
   "cell_type": "markdown",
   "source": [
    "**Creating reduced DB using dominating set algo**"
   ],
   "metadata": {
    "collapsed": false
   }
  },
  {
   "cell_type": "code",
   "execution_count": null,
   "outputs": [],
   "source": [
    "reduced_db = dominating_set(database, voxel_size=0.3, threshold=0.3)"
   ],
   "metadata": {
    "collapsed": false
   }
  },
  {
   "cell_type": "markdown",
   "source": [
    "**Exporting new DB to hard drive**"
   ],
   "metadata": {
    "collapsed": false
   }
  },
  {
   "cell_type": "code",
   "execution_count": null,
   "outputs": [],
   "source": [
    "path_to_export = '/path/to/new/db'\n",
    "export(database=reduced_db,\n",
    "       path_to_export=Path(path_to_export),\n",
    "       color_dir='color',\n",
    "       depth_dir='depth',\n",
    "       trajectory_file_name='poses.txt',\n",
    "       intrinsics_file_name='intrinsics.txt')"
   ],
   "metadata": {
    "collapsed": false
   }
  }
 ],
 "metadata": {
  "kernelspec": {
   "display_name": "Python 3",
   "language": "python",
   "name": "python3"
  },
  "language_info": {
   "codemirror_mode": {
    "name": "ipython",
    "version": 2
   },
   "file_extension": ".py",
   "mimetype": "text/x-python",
   "name": "python",
   "nbconvert_exporter": "python",
   "pygments_lexer": "ipython2",
   "version": "2.7.6"
  }
 },
 "nbformat": 4,
 "nbformat_minor": 0
}
